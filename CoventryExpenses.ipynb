{
 "cells": [
  {
   "cell_type": "markdown",
   "metadata": {},
   "source": [
    "# Using Python and Pandas to investigate MP's expenses"
   ]
  },
  {
   "cell_type": "markdown",
   "metadata": {},
   "source": [
    "I am interested in practising using pandas Python module, and so thought I would take a look at the expenses claims made by UK members of Parliament over the last five years, which is available from the <a href='http://www.parliamentary-standards.org.uk/.'>Independent Parliamentary Standards Authority (IPSA)</a>. As I live in Coventry, I'll be focusing primarily on the three Coventry constituencies, particularly the constituency of Coventry North West, where <a href='http://www.parliament.uk/biographies/commons/mr-geoffrey-robinson/307'>Geoffrey Robinson</a> serves as the MP. \n",
    "\n",
    "The data from IPSA is available in a csv format and gives details of individual expense claims from MPs since 2010. IPSA was formed as a response to the <a href='https://en.wikipedia.org/wiki/United_Kingdom_parliamentary_expenses_scandal'>MPs expenses scandal</a> of 2009. As a consequence of this scandal, there were many resignations, MPs losing their seats in the 2010 general election, and even criminal charges in some cases. I was interested to find out whether, now that media interest has died down in this story, the MPs are continuing to show restraint after a brief flash of media scrutiny or whether they are returning to a regime of lavish expenses claims, like those seen in 2009 when an MP claimed over £1,500 for an <a href='http://www.theguardian.com/politics/2009/may/23/mps-expenses-conservatives'>island to house his ducks</a>."
   ]
  },
  {
   "cell_type": "code",
   "execution_count": 1,
   "metadata": {
    "collapsed": true
   },
   "outputs": [],
   "source": [
    "import pandas as pd\n",
    "import pylab as plt\n",
    "import os\n",
    "%matplotlib inline"
   ]
  },
  {
   "cell_type": "code",
   "execution_count": 2,
   "metadata": {
    "collapsed": false
   },
   "outputs": [],
   "source": [
    "# Creates generator of IPSA data files between 2010/11 - 2015/16\n",
    "Files = (fi for fi in os.listdir('./')\n",
    "         if fi.endswith('csv'))"
   ]
  },
  {
   "cell_type": "code",
   "execution_count": 3,
   "metadata": {
    "collapsed": false
   },
   "outputs": [],
   "source": [
    "# Create single dataframe\n",
    "Total = pd.concat((pd.read_csv(fi, skipinitialspace=True)) for fi in Files)"
   ]
  },
  {
   "cell_type": "code",
   "execution_count": 4,
   "metadata": {
    "collapsed": false
   },
   "outputs": [],
   "source": [
    "# Re-format some columns\n",
    "Total = Total.drop(\"\\xef\\xbb\\xbfYear\", 1)\n",
    "Total['Date'] = pd.to_datetime(Total.Date, format='%d/%m/%Y')\n",
    "Total['Year'] = Total['Date'].dt.year"
   ]
  },
  {
   "cell_type": "code",
   "execution_count": 5,
   "metadata": {
    "collapsed": false
   },
   "outputs": [
    {
     "data": {
      "text/html": [
       "<div>\n",
       "<table border=\"1\" class=\"dataframe\">\n",
       "  <thead>\n",
       "    <tr style=\"text-align: right;\">\n",
       "      <th></th>\n",
       "      <th></th>\n",
       "      <th>Date</th>\n",
       "      <th>Claim No.</th>\n",
       "      <th>MP's Name</th>\n",
       "      <th>MP's Constituency</th>\n",
       "      <th>Category</th>\n",
       "      <th>Expense Type</th>\n",
       "      <th>Short Description</th>\n",
       "      <th>Details</th>\n",
       "      <th>Journey Type</th>\n",
       "      <th>From</th>\n",
       "      <th>...</th>\n",
       "      <th>Travel</th>\n",
       "      <th>Nights</th>\n",
       "      <th>Mileage</th>\n",
       "      <th>Amount Claimed</th>\n",
       "      <th>Amount Paid</th>\n",
       "      <th>Amount Not Paid</th>\n",
       "      <th>Amount Repaid</th>\n",
       "      <th>Status</th>\n",
       "      <th>Reason If Not Paid</th>\n",
       "      <th>Year</th>\n",
       "    </tr>\n",
       "    <tr>\n",
       "      <th>MP's Constituency</th>\n",
       "      <th>Year</th>\n",
       "      <th></th>\n",
       "      <th></th>\n",
       "      <th></th>\n",
       "      <th></th>\n",
       "      <th></th>\n",
       "      <th></th>\n",
       "      <th></th>\n",
       "      <th></th>\n",
       "      <th></th>\n",
       "      <th></th>\n",
       "      <th></th>\n",
       "      <th></th>\n",
       "      <th></th>\n",
       "      <th></th>\n",
       "      <th></th>\n",
       "      <th></th>\n",
       "      <th></th>\n",
       "      <th></th>\n",
       "      <th></th>\n",
       "      <th></th>\n",
       "      <th></th>\n",
       "    </tr>\n",
       "  </thead>\n",
       "  <tbody>\n",
       "    <tr>\n",
       "      <th rowspan=\"5\" valign=\"top\">Aberavon CC</th>\n",
       "      <th>2010</th>\n",
       "      <td>2010-10-28</td>\n",
       "      <td>43073</td>\n",
       "      <td>Hywel Francis</td>\n",
       "      <td>Aberavon CC</td>\n",
       "      <td>Travel</td>\n",
       "      <td>Congestion Zone/Toll MP</td>\n",
       "      <td>Congestion and Bridge charges</td>\n",
       "      <td>Severn Bridge crossing Thursday 21st October 2010</td>\n",
       "      <td>Westminster to Const Home</td>\n",
       "      <td>NaN</td>\n",
       "      <td>...</td>\n",
       "      <td>NaN</td>\n",
       "      <td>0</td>\n",
       "      <td>0</td>\n",
       "      <td>5.50</td>\n",
       "      <td>5.50</td>\n",
       "      <td>0</td>\n",
       "      <td>0</td>\n",
       "      <td>Paid</td>\n",
       "      <td>NaN</td>\n",
       "      <td>2010</td>\n",
       "    </tr>\n",
       "    <tr>\n",
       "      <th>2010</th>\n",
       "      <td>2010-11-16</td>\n",
       "      <td>48519</td>\n",
       "      <td>Hywel Francis</td>\n",
       "      <td>Aberavon CC</td>\n",
       "      <td>Travel</td>\n",
       "      <td>Congestion Zone/Toll MP</td>\n",
       "      <td>Congestion and Bridge charges</td>\n",
       "      <td>Severn Bridge charge 10 Nov 2010</td>\n",
       "      <td>Westminster to Const Home</td>\n",
       "      <td>NaN</td>\n",
       "      <td>...</td>\n",
       "      <td>NaN</td>\n",
       "      <td>0</td>\n",
       "      <td>0</td>\n",
       "      <td>5.50</td>\n",
       "      <td>5.50</td>\n",
       "      <td>0</td>\n",
       "      <td>0</td>\n",
       "      <td>Paid</td>\n",
       "      <td>NaN</td>\n",
       "      <td>2010</td>\n",
       "    </tr>\n",
       "    <tr>\n",
       "      <th>2010</th>\n",
       "      <td>2010-09-22</td>\n",
       "      <td>32414</td>\n",
       "      <td>Hywel Francis</td>\n",
       "      <td>Aberavon CC</td>\n",
       "      <td>General Admin</td>\n",
       "      <td>Other</td>\n",
       "      <td>Banner Bill Sept 2010</td>\n",
       "      <td>Printer cartridges for caseworker's printer</td>\n",
       "      <td>NaN</td>\n",
       "      <td>NaN</td>\n",
       "      <td>...</td>\n",
       "      <td>NaN</td>\n",
       "      <td>0</td>\n",
       "      <td>0</td>\n",
       "      <td>225.65</td>\n",
       "      <td>225.65</td>\n",
       "      <td>0</td>\n",
       "      <td>0</td>\n",
       "      <td>Paid</td>\n",
       "      <td>NaN</td>\n",
       "      <td>2010</td>\n",
       "    </tr>\n",
       "    <tr>\n",
       "      <th>2010</th>\n",
       "      <td>2010-08-26</td>\n",
       "      <td>25379</td>\n",
       "      <td>Hywel Francis</td>\n",
       "      <td>Aberavon CC</td>\n",
       "      <td>General Admin</td>\n",
       "      <td>Payment Telephone/Mobile</td>\n",
       "      <td>Telephone/mobile Aug 10</td>\n",
       "      <td>t mobile Aug 10</td>\n",
       "      <td>NaN</td>\n",
       "      <td>NaN</td>\n",
       "      <td>...</td>\n",
       "      <td>NaN</td>\n",
       "      <td>0</td>\n",
       "      <td>0</td>\n",
       "      <td>29.73</td>\n",
       "      <td>29.73</td>\n",
       "      <td>0</td>\n",
       "      <td>0</td>\n",
       "      <td>Paid</td>\n",
       "      <td>NaN</td>\n",
       "      <td>2010</td>\n",
       "    </tr>\n",
       "    <tr>\n",
       "      <th>2010</th>\n",
       "      <td>2010-06-26</td>\n",
       "      <td>7821</td>\n",
       "      <td>Hywel Francis</td>\n",
       "      <td>Aberavon CC</td>\n",
       "      <td>Travel</td>\n",
       "      <td>Congestion Zone/Toll MP</td>\n",
       "      <td>Congestion/Bridge Charges June</td>\n",
       "      <td>Congestion Charge 23.06.10</td>\n",
       "      <td>Westminster to Const Home</td>\n",
       "      <td>NaN</td>\n",
       "      <td>...</td>\n",
       "      <td>NaN</td>\n",
       "      <td>0</td>\n",
       "      <td>0</td>\n",
       "      <td>8.00</td>\n",
       "      <td>8.00</td>\n",
       "      <td>0</td>\n",
       "      <td>0</td>\n",
       "      <td>Paid</td>\n",
       "      <td>NaN</td>\n",
       "      <td>2010</td>\n",
       "    </tr>\n",
       "  </tbody>\n",
       "</table>\n",
       "<p>5 rows × 21 columns</p>\n",
       "</div>"
      ],
      "text/plain": [
       "                             Date Claim No.      MP's Name MP's Constituency  \\\n",
       "MP's Constituency Year                                                         \n",
       "Aberavon CC       2010 2010-10-28     43073  Hywel Francis       Aberavon CC   \n",
       "                  2010 2010-11-16     48519  Hywel Francis       Aberavon CC   \n",
       "                  2010 2010-09-22     32414  Hywel Francis       Aberavon CC   \n",
       "                  2010 2010-08-26     25379  Hywel Francis       Aberavon CC   \n",
       "                  2010 2010-06-26      7821  Hywel Francis       Aberavon CC   \n",
       "\n",
       "                             Category              Expense Type  \\\n",
       "MP's Constituency Year                                            \n",
       "Aberavon CC       2010         Travel   Congestion Zone/Toll MP   \n",
       "                  2010         Travel   Congestion Zone/Toll MP   \n",
       "                  2010  General Admin                     Other   \n",
       "                  2010  General Admin  Payment Telephone/Mobile   \n",
       "                  2010         Travel   Congestion Zone/Toll MP   \n",
       "\n",
       "                                     Short Description  \\\n",
       "MP's Constituency Year                                   \n",
       "Aberavon CC       2010   Congestion and Bridge charges   \n",
       "                  2010   Congestion and Bridge charges   \n",
       "                  2010           Banner Bill Sept 2010   \n",
       "                  2010         Telephone/mobile Aug 10   \n",
       "                  2010  Congestion/Bridge Charges June   \n",
       "\n",
       "                                                                  Details  \\\n",
       "MP's Constituency Year                                                      \n",
       "Aberavon CC       2010  Severn Bridge crossing Thursday 21st October 2010   \n",
       "                  2010                   Severn Bridge charge 10 Nov 2010   \n",
       "                  2010        Printer cartridges for caseworker's printer   \n",
       "                  2010                                    t mobile Aug 10   \n",
       "                  2010                         Congestion Charge 23.06.10   \n",
       "\n",
       "                                     Journey Type From  ...  Travel Nights  \\\n",
       "MP's Constituency Year                                  ...                  \n",
       "Aberavon CC       2010  Westminster to Const Home  NaN  ...     NaN      0   \n",
       "                  2010  Westminster to Const Home  NaN  ...     NaN      0   \n",
       "                  2010                        NaN  NaN  ...     NaN      0   \n",
       "                  2010                        NaN  NaN  ...     NaN      0   \n",
       "                  2010  Westminster to Const Home  NaN  ...     NaN      0   \n",
       "\n",
       "                        Mileage  Amount Claimed  Amount Paid  Amount Not Paid  \\\n",
       "MP's Constituency Year                                                          \n",
       "Aberavon CC       2010        0            5.50         5.50                0   \n",
       "                  2010        0            5.50         5.50                0   \n",
       "                  2010        0          225.65       225.65                0   \n",
       "                  2010        0           29.73        29.73                0   \n",
       "                  2010        0            8.00         8.00                0   \n",
       "\n",
       "                        Amount Repaid  Status Reason If Not Paid  Year  \n",
       "MP's Constituency Year                                                  \n",
       "Aberavon CC       2010              0    Paid                NaN  2010  \n",
       "                  2010              0    Paid                NaN  2010  \n",
       "                  2010              0    Paid                NaN  2010  \n",
       "                  2010              0    Paid                NaN  2010  \n",
       "                  2010              0    Paid                NaN  2010  \n",
       "\n",
       "[5 rows x 21 columns]"
      ]
     },
     "execution_count": 5,
     "metadata": {},
     "output_type": "execute_result"
    }
   ],
   "source": [
    "# Shuffling data in more useful format - grouping by Constituency and year\n",
    "Total = Total.set_index([\"MP's Constituency\", \"Year\"], drop=False)\n",
    "Total = Total.sort_index()\n",
    "Total.head()"
   ]
  },
  {
   "cell_type": "markdown",
   "metadata": {},
   "source": [
    "As you can see from the above cell, the IPSA data gives data that you should expect to be given, such as the amount that has been claimed, whether the claim has been successful, when the claim was made, and a short description of the expense that is being claimed. As the data is sorted alphabetically using the constituency name, it is no surprise to see claims from the Aberavon MP Hywel Francis show up on the head of the data frame. Equally unsurprising for a south Wales MP is to see several claims for £ 5.50 toll for the Severn bridge crossing. \n",
    "\n",
    "The data source is so rich that there are a hundred and one lines of inquiry, but I will just explore a few interesting features that I have noticed from my own MP's expenses claim, and will be comparing him with two other Coventry MPs. I can do this by filtering out the results from the main dataframe so that only claims made by MPs with \"Coventry\" in their constituency name are considered."
   ]
  },
  {
   "cell_type": "code",
   "execution_count": 6,
   "metadata": {
    "collapsed": false
   },
   "outputs": [],
   "source": [
    "# Only interested in MP's from Coventry\n",
    "CovTotal = Total[Total[\"MP's Constituency\"].str.contains(\"Coventry\")]"
   ]
  },
  {
   "cell_type": "markdown",
   "metadata": {},
   "source": [
    "Now we can have a look at the headline figures: how many individual claims were made between 2010 and 2015, and what was the net total paid out to the Coventry MPs in that period:"
   ]
  },
  {
   "cell_type": "code",
   "execution_count": 7,
   "metadata": {
    "collapsed": false
   },
   "outputs": [
    {
     "data": {
      "text/plain": [
       "2627"
      ]
     },
     "execution_count": 7,
     "metadata": {},
     "output_type": "execute_result"
    }
   ],
   "source": [
    "# Total numer of entries\n",
    "len(CovTotal)"
   ]
  },
  {
   "cell_type": "code",
   "execution_count": 8,
   "metadata": {
    "collapsed": false
   },
   "outputs": [
    {
     "name": "stdout",
     "output_type": "stream",
     "text": [
      "£ 1,076,092.34\n"
     ]
    }
   ],
   "source": [
    "# Net Amount claimed in Coventry over those years\n",
    "tot = CovTotal['Amount Paid'].sum()\n",
    "print('£ {:,.2f}'.format(tot))"
   ]
  },
  {
   "cell_type": "markdown",
   "metadata": {},
   "source": [
    "So, over this six year period, over a million pounds has been claimed by the three Coventry MPs! Of course, it should be remembered that this million pounds has been claimed over a six year period by three people...but even still, this works out at an mean annual claim of around £60,000! \n",
    "\n",
    "But we can break this number down by looking at the annual claim by each MP."
   ]
  },
  {
   "cell_type": "code",
   "execution_count": 9,
   "metadata": {
    "collapsed": false
   },
   "outputs": [],
   "source": [
    "# Create annual summary of total spent each year in each constituency\n",
    "AnnualSummary = CovTotal.groupby([\"MP's Constituency\", \"Year\"])['Amount Paid'].sum()"
   ]
  },
  {
   "cell_type": "code",
   "execution_count": 10,
   "metadata": {
    "collapsed": false,
    "scrolled": true
   },
   "outputs": [
    {
     "data": {
      "image/png": "[encoded data removed]",
      "text/plain": [
       "<matplotlib.figure.Figure at 0x7fda8e921790>"
      ]
     },
     "metadata": {},
     "output_type": "display_data"
    }
   ],
   "source": [
    "# Plot results to see evolution of expenses paid over last 6 years\n",
    "ax = (1e-3*AnnualSummary).unstack().T.plot(style='-')\n",
    "ax.set_ylabel(u'Amount Paid (£ k)')\n",
    "plt.gca().get_xaxis().get_major_formatter().set_useOffset(False)"
   ]
  },
  {
   "cell_type": "markdown",
   "metadata": {},
   "source": [
    "#### Increasing Claims\n",
    "From the graph above, there is a clear step change in the money claimed from 2013 to 2014, with the annual claim increasing by a whopping £100,000! Looking at the data, it appears that MPs have suddenly become greedy again in 2014. Of course, this is not the case, and looking at the claims made, it appears that from 2014 staffing costs have are declared as an expense. Of course, these staffing costs were always claimed, it is just that they have been reallocated as an expense and so suddenly appear on the IPSA data. Looking through the IPSA guidelines, it appears that non-London based MPs have a £140,000 budget to cover staffing costs, with an additional £7,000 available to London MPs.\n",
    "\n",
    "However, even when disregarding this increase in claims due to the reallocation of staff costs, there is an interesting trend, which is particularly noticeable for my MP for Coventry North West. The first year that data is available, 2010, is only a year after the expenses scandal initial broke in the news, with a new story breaking almost every week. In addition, 2010 was an election year, with candidates wanting to distance themselves from the excessive expenses claimed by some of their collegues. Clearly, all of these influences caused the total expenses claims to be quite low. However, as time progressed and the expenses scandal moves further to the back of everyone's collective mind, the amount paid in expenses is steadily increasing. For instance, after being awarded only £7,690.37 in 2010, Geoffrey Robinson received £32,956.49 in 2013. Of course, there may be another reason for this four fold increase, and so I have written to him for clarification. Once I receive a reply, I will update this notebook to reflect his comments. It is also worth commenting on the fact that in 2015, which is the last year that we have data for, Geoffrey Robinson is claiming approximately £30,000 more than his two neighbouring MPs; again, I await with interest any explanation as to why this may be. \n",
    "\n",
    "#### Train Travel\n",
    "Another interesting thing I noticed when I was browsing through the expenses list is the number of times that Mr Robinson was claiming for first class rail travel between his Coventry constituency base and London for his work in the House of Commons. Again, I was interested in how he compared with his peers - this time both in Coventry and in the country as a whole. First, we need to separate out all travel claims into first class and standard class travel, and make sure that we only look at those claims that have been paid. Firstly, let's look at all the Coventry MPs, as they will have to use the same train station."
   ]
  },
  {
   "cell_type": "code",
   "execution_count": 11,
   "metadata": {
    "collapsed": false
   },
   "outputs": [],
   "source": [
    "# Looking at Standard-First class travel ratio\n",
    "Std = CovTotal[(CovTotal['Travel'] == \"Standard\") & (CovTotal['Status'] == \"Paid\")]\n",
    "First = CovTotal[(CovTotal['Travel'] == \"First\") & (CovTotal['Status'] == \"Paid\")]"
   ]
  },
  {
   "cell_type": "code",
   "execution_count": 12,
   "metadata": {
    "collapsed": false
   },
   "outputs": [],
   "source": [
    "# Separate out First class and standard travel and calculate percentage of first class travel\n",
    "FirstSum = First.groupby([\"MP's Constituency\", \"Year\"])['Travel'].count()\n",
    "StdSum = Std.groupby([\"MP's Constituency\", \"Year\"])['Travel'].count()\n",
    "First_Percent = 100. * FirstSum / (FirstSum + StdSum)\n",
    "FirstPercent = First_Percent.fillna(0)"
   ]
  },
  {
   "cell_type": "code",
   "execution_count": 13,
   "metadata": {
    "collapsed": false
   },
   "outputs": [
    {
     "data": {
      "text/plain": [
       "<matplotlib.legend.Legend at 0x7fda8e921650>"
      ]
     },
     "execution_count": 13,
     "metadata": {},
     "output_type": "execute_result"
    },
    {
     "data": {
      "image/png": "[encoded data removed]",
      "text/plain": [
       "<matplotlib.figure.Figure at 0x7fda8e921850>"
      ]
     },
     "metadata": {},
     "output_type": "display_data"
    }
   ],
   "source": [
    "# Plotting Results\n",
    "ax = FirstPercent.unstack().T.plot(kind='bar')\n",
    "ax.set_ylabel('First Class Travel (%)')\n",
    "ax.legend(loc='center left', bbox_to_anchor=(1, 0.5))"
   ]
  },
  {
   "cell_type": "markdown",
   "metadata": {},
   "source": [
    "Looking at the figure above, the data looks pretty damning. The MP for Coventry South, <a href='http://www.jimcunningham.org.uk/'>Jim Cunningham</a>, has not made a single claim for first class train travel. Indeed, even the MP for Coventry North East has only sporadically travelled by first class, potentially as it can sometimes work out a little cheaper. However, Geoffrey Robinson appears to be travelling via first class for more than 80 % of the time. The <a href='http://parliamentarystandards.org.uk/IPSAMPs/Guidance/SiteAssets/Pages/home/Guidance-for-MPs-Business-Costs-and-Expenses.pdf'>MP's guidance handbook</a> advises that claims for first class travel are allowed if it represents value for money. I can see how, in some circumstances, first class travel might be cheaper than standard class due to special offers. But it seems very unlikely that first class tickets are cheaper than standard class tickets over 80 % of the time; and if this is true, why aren't the other MPs making use of these deals? \n",
    "\n",
    "Perhaps, though, the total sum that is claimed is not as high as his fellow Coventry MPs' expenses claims. The important thing is the total money claimed from the taxpayer, not the relative amount of first-class tickets claimed. So, let's look at the total amount claimed, and break it down into first- and standard-class tickets:"
   ]
  },
  {
   "cell_type": "code",
   "execution_count": 14,
   "metadata": {
    "collapsed": false,
    "scrolled": true
   },
   "outputs": [
    {
     "data": {
      "text/plain": [
       "<matplotlib.legend.Legend at 0x7f1134588a50>"
      ]
     },
     "execution_count": 14,
     "metadata": {},
     "output_type": "execute_result"
    },
    {
     "data": {
      "image/png": "[encoded data removed]",
      "text/plain": [
       "<matplotlib.figure.Figure at 0x7f110881a0d0>"
      ]
     },
     "metadata": {},
     "output_type": "display_data"
    }
   ],
   "source": [
    "# Calculating yearly total standard travel costs by Coventry constituency\n",
    "YearlyS = Std.groupby([\"MP's Constituency\", \"Year\"])['Amount Paid'].sum()\n",
    "ax = YearlyS.unstack().T.plot(kind='bar')\n",
    "ax.set_ylabel(u'Standard Travel Costs (£)')\n",
    "ax.legend(loc='center left', bbox_to_anchor=(1, 0.5))"
   ]
  },
  {
   "cell_type": "code",
   "execution_count": 15,
   "metadata": {
    "collapsed": false
   },
   "outputs": [
    {
     "data": {
      "text/plain": [
       "<matplotlib.legend.Legend at 0x7f11089f1d90>"
      ]
     },
     "execution_count": 15,
     "metadata": {},
     "output_type": "execute_result"
    },
    {
     "data": {
      "image/png": "[encoded data removed]",
      "text/plain": [
       "<matplotlib.figure.Figure at 0x7f1108780a50>"
      ]
     },
     "metadata": {},
     "output_type": "display_data"
    }
   ],
   "source": [
    "YearlyF = First.groupby([\"MP's Constituency\", \"Year\"])['Amount Paid'].sum()\n",
    "ax = YearlyF.unstack().T.plot(kind='bar')\n",
    "ax.set_ylabel(u'First-Class Travel Costs (£)')\n",
    "ax.legend(loc='center left', bbox_to_anchor=(1, 0.5))"
   ]
  },
  {
   "cell_type": "markdown",
   "metadata": {},
   "source": [
    "As we can see, the first class claims made by Mr. Robinson dwarf the standard rate claims, and so it is clear that these excess of first class claims are costing the taxpayer money. Indeed, he claims over 150 % more than the next expensive Coventry constituency, Coventry North East."
   ]
  },
  {
   "cell_type": "code",
   "execution_count": 16,
   "metadata": {
    "collapsed": false
   },
   "outputs": [
    {
     "data": {
      "text/plain": [
       "MP's Constituency\n",
       "Coventry North East BC    9447.25\n",
       "Coventry North West BC    2169.95\n",
       "Coventry South BC         4283.95\n",
       "Name: Amount Paid, dtype: float64"
      ]
     },
     "execution_count": 16,
     "metadata": {},
     "output_type": "execute_result"
    }
   ],
   "source": [
    "Std.groupby([\"MP's Constituency\"])[\"Amount Paid\"].sum()"
   ]
  },
  {
   "cell_type": "code",
   "execution_count": 17,
   "metadata": {
    "collapsed": false
   },
   "outputs": [
    {
     "data": {
      "text/plain": [
       "MP's Constituency\n",
       "Coventry North East BC       84.0\n",
       "Coventry North West BC    21746.6\n",
       "Name: Amount Paid, dtype: float64"
      ]
     },
     "execution_count": 17,
     "metadata": {},
     "output_type": "execute_result"
    }
   ],
   "source": [
    "First.groupby([\"MP's Constituency\"])[\"Amount Paid\"].sum()"
   ]
  },
  {
   "cell_type": "markdown",
   "metadata": {},
   "source": [
    "For balance, I should also point out that Geoffrey Robinson did claim <em>significantly</em> less money on accommodation costs (around £75,0000 less) than the other two Coventry MPs (whether this has anything to do with his famed <a href='http://news.bbc.co.uk/1/hi/uk_politics/1312456.stm'>Park Lane penthouse apartment</a> in central London, we may never know). Whatever the deal with the lower accommodation costs, it is clear that the expenses claimed on his train travel between London and Coventry could have been much lower. "
   ]
  },
  {
   "cell_type": "code",
   "execution_count": 18,
   "metadata": {
    "collapsed": false
   },
   "outputs": [
    {
     "data": {
      "text/plain": [
       "MP's Constituency\n",
       "Coventry North East BC    79535.8\n",
       "Coventry South BC         76640.6\n",
       "Coventry North West BC     1920.0\n",
       "Name: Amount Paid, dtype: float64"
      ]
     },
     "execution_count": 18,
     "metadata": {},
     "output_type": "execute_result"
    }
   ],
   "source": [
    "# Make everything lower case, so we can search for 'accommodation'\n",
    "Total['Category'] = Total.Category.str.lower()\n",
    "# Filtering out info on Coventry MPs' accommodation expenses\n",
    "Accom = Total[(Total.Category.str.contains(\"accommodation\")) &\n",
    "          (Total[\"MP's Constituency\"].str.contains(\"Coventry\"))]\n",
    "Accom = Accom.groupby([\"MP's Constituency\"])['Amount Paid'].sum()\n",
    "Accom.sort_values(ascending=False)"
   ]
  },
  {
   "cell_type": "markdown",
   "metadata": {},
   "source": [
    "So, it appears that Mr. Robinson is claiming a significantly greater proportion of first class tickets in comparison to his Coventry colleagues, but what about all the other MPs? I decided to have a look at the average percentage of first class travel made by MPs from all UK constituencies. It appears that Geoffrey Robinson is by no means the worst offender on this front. Over 99 % of all train travel made by the Tynemouth MP Alan Campbell has been in a first class carriage. Geoffrey Robinson is back in 33rd place, with a mere 87.3 % of train travel made using a first class ticket. \n",
    "\n",
    "What is noticeable, though, is how close Coventry is to London in comparison with all the other constituencies in the top/worst 40. With the exception of Leicestershire South, the constituencies are several hours away by train, normally in northern England. Coventry, though, is a little over an hour away by train. \n",
    "\n",
    "As before, once I hear from Geoffrey Robinson, I will update this document with any response that I receive. "
   ]
  },
  {
   "cell_type": "code",
   "execution_count": 28,
   "metadata": {
    "collapsed": false
   },
   "outputs": [
    {
     "data": {
      "text/html": [
       "<div>\n",
       "<table border=\"1\" class=\"dataframe\">\n",
       "  <thead>\n",
       "    <tr style=\"text-align: right;\">\n",
       "      <th></th>\n",
       "      <th>MP's Constituency</th>\n",
       "      <th>Travel</th>\n",
       "    </tr>\n",
       "  </thead>\n",
       "  <tbody>\n",
       "    <tr>\n",
       "      <th>1</th>\n",
       "      <td>Tynemouth BC</td>\n",
       "      <td>99.065421</td>\n",
       "    </tr>\n",
       "    <tr>\n",
       "      <th>2</th>\n",
       "      <td>Louth and Horncastle CC</td>\n",
       "      <td>98.979592</td>\n",
       "    </tr>\n",
       "    <tr>\n",
       "      <th>3</th>\n",
       "      <td>Lichfield CC</td>\n",
       "      <td>98.360656</td>\n",
       "    </tr>\n",
       "    <tr>\n",
       "      <th>4</th>\n",
       "      <td>Sedgefield CC</td>\n",
       "      <td>98.220641</td>\n",
       "    </tr>\n",
       "    <tr>\n",
       "      <th>5</th>\n",
       "      <td>Warrington North BC</td>\n",
       "      <td>97.938144</td>\n",
       "    </tr>\n",
       "    <tr>\n",
       "      <th>6</th>\n",
       "      <td>Bolton North East BC</td>\n",
       "      <td>97.860963</td>\n",
       "    </tr>\n",
       "    <tr>\n",
       "      <th>7</th>\n",
       "      <td>Jarrow BC</td>\n",
       "      <td>97.849462</td>\n",
       "    </tr>\n",
       "    <tr>\n",
       "      <th>8</th>\n",
       "      <td>Blackley and Broughton BC</td>\n",
       "      <td>96.887160</td>\n",
       "    </tr>\n",
       "    <tr>\n",
       "      <th>9</th>\n",
       "      <td>Gateshead BC</td>\n",
       "      <td>96.534653</td>\n",
       "    </tr>\n",
       "    <tr>\n",
       "      <th>10</th>\n",
       "      <td>Leeds East BC</td>\n",
       "      <td>95.864662</td>\n",
       "    </tr>\n",
       "    <tr>\n",
       "      <th>11</th>\n",
       "      <td>Knowsley BC</td>\n",
       "      <td>95.843521</td>\n",
       "    </tr>\n",
       "    <tr>\n",
       "      <th>12</th>\n",
       "      <td>West Lancashire CC</td>\n",
       "      <td>95.604396</td>\n",
       "    </tr>\n",
       "    <tr>\n",
       "      <th>13</th>\n",
       "      <td>Sherwood CC</td>\n",
       "      <td>95.135135</td>\n",
       "    </tr>\n",
       "    <tr>\n",
       "      <th>14</th>\n",
       "      <td>Nottingham North BC</td>\n",
       "      <td>94.055944</td>\n",
       "    </tr>\n",
       "    <tr>\n",
       "      <th>15</th>\n",
       "      <td>Aberavon CC</td>\n",
       "      <td>93.684211</td>\n",
       "    </tr>\n",
       "    <tr>\n",
       "      <th>16</th>\n",
       "      <td>Mansfield CC</td>\n",
       "      <td>93.015873</td>\n",
       "    </tr>\n",
       "    <tr>\n",
       "      <th>17</th>\n",
       "      <td>Torridge and West Devon CC</td>\n",
       "      <td>92.307692</td>\n",
       "    </tr>\n",
       "    <tr>\n",
       "      <th>18</th>\n",
       "      <td>Ashton-under-Lyne BC</td>\n",
       "      <td>91.764706</td>\n",
       "    </tr>\n",
       "    <tr>\n",
       "      <th>19</th>\n",
       "      <td>Leeds North East BC</td>\n",
       "      <td>91.636364</td>\n",
       "    </tr>\n",
       "    <tr>\n",
       "      <th>20</th>\n",
       "      <td>Workington CC</td>\n",
       "      <td>91.612903</td>\n",
       "    </tr>\n",
       "    <tr>\n",
       "      <th>21</th>\n",
       "      <td>Blyth Valley BC</td>\n",
       "      <td>91.216216</td>\n",
       "    </tr>\n",
       "    <tr>\n",
       "      <th>22</th>\n",
       "      <td>Forest of Dean CC</td>\n",
       "      <td>90.476190</td>\n",
       "    </tr>\n",
       "    <tr>\n",
       "      <th>23</th>\n",
       "      <td>Shrewsbury and Atcham CC</td>\n",
       "      <td>89.873418</td>\n",
       "    </tr>\n",
       "    <tr>\n",
       "      <th>24</th>\n",
       "      <td>Chorley CC</td>\n",
       "      <td>89.807163</td>\n",
       "    </tr>\n",
       "    <tr>\n",
       "      <th>25</th>\n",
       "      <td>Manchester, Gorton BC</td>\n",
       "      <td>89.473684</td>\n",
       "    </tr>\n",
       "    <tr>\n",
       "      <th>26</th>\n",
       "      <td>Sheffield South East BC</td>\n",
       "      <td>89.235127</td>\n",
       "    </tr>\n",
       "    <tr>\n",
       "      <th>27</th>\n",
       "      <td>Blaydon BC</td>\n",
       "      <td>89.147287</td>\n",
       "    </tr>\n",
       "    <tr>\n",
       "      <th>28</th>\n",
       "      <td>Kingston upon Hull West and Hessle BC</td>\n",
       "      <td>88.235294</td>\n",
       "    </tr>\n",
       "    <tr>\n",
       "      <th>29</th>\n",
       "      <td>Aberconwy CC</td>\n",
       "      <td>88.180113</td>\n",
       "    </tr>\n",
       "    <tr>\n",
       "      <th>30</th>\n",
       "      <td>Ellesmere Port and Neston CC</td>\n",
       "      <td>87.762238</td>\n",
       "    </tr>\n",
       "    <tr>\n",
       "      <th>31</th>\n",
       "      <td>Bridgend CC</td>\n",
       "      <td>87.559809</td>\n",
       "    </tr>\n",
       "    <tr>\n",
       "      <th>32</th>\n",
       "      <td>Denton and Reddish BC</td>\n",
       "      <td>87.463557</td>\n",
       "    </tr>\n",
       "    <tr>\n",
       "      <th>33</th>\n",
       "      <td>Coventry North West BC</td>\n",
       "      <td>87.267081</td>\n",
       "    </tr>\n",
       "    <tr>\n",
       "      <th>34</th>\n",
       "      <td>Copeland CC</td>\n",
       "      <td>86.585366</td>\n",
       "    </tr>\n",
       "    <tr>\n",
       "      <th>35</th>\n",
       "      <td>South Leicestershire CC</td>\n",
       "      <td>86.250000</td>\n",
       "    </tr>\n",
       "    <tr>\n",
       "      <th>36</th>\n",
       "      <td>Berwick-upon-Tweed CC</td>\n",
       "      <td>86.029412</td>\n",
       "    </tr>\n",
       "    <tr>\n",
       "      <th>37</th>\n",
       "      <td>Wyre and Preston North CC</td>\n",
       "      <td>85.530547</td>\n",
       "    </tr>\n",
       "    <tr>\n",
       "      <th>38</th>\n",
       "      <td>Liverpool, Walton BC</td>\n",
       "      <td>84.942085</td>\n",
       "    </tr>\n",
       "    <tr>\n",
       "      <th>39</th>\n",
       "      <td>Haltemprice and Howden CC</td>\n",
       "      <td>83.428571</td>\n",
       "    </tr>\n",
       "    <tr>\n",
       "      <th>40</th>\n",
       "      <td>Neath CC</td>\n",
       "      <td>83.030303</td>\n",
       "    </tr>\n",
       "    <tr>\n",
       "      <th>41</th>\n",
       "      <td>Clwyd West CC</td>\n",
       "      <td>82.587065</td>\n",
       "    </tr>\n",
       "    <tr>\n",
       "      <th>42</th>\n",
       "      <td>Stockport BC</td>\n",
       "      <td>82.153846</td>\n",
       "    </tr>\n",
       "    <tr>\n",
       "      <th>43</th>\n",
       "      <td>North Durham CC</td>\n",
       "      <td>82.068966</td>\n",
       "    </tr>\n",
       "    <tr>\n",
       "      <th>44</th>\n",
       "      <td>Wythenshawe and Sale East BC</td>\n",
       "      <td>81.782946</td>\n",
       "    </tr>\n",
       "    <tr>\n",
       "      <th>45</th>\n",
       "      <td>Dumfries and Galloway CC</td>\n",
       "      <td>80.666667</td>\n",
       "    </tr>\n",
       "    <tr>\n",
       "      <th>46</th>\n",
       "      <td>Caerphilly CC</td>\n",
       "      <td>79.921260</td>\n",
       "    </tr>\n",
       "    <tr>\n",
       "      <th>47</th>\n",
       "      <td>Altrincham and Sale West BC</td>\n",
       "      <td>79.813665</td>\n",
       "    </tr>\n",
       "    <tr>\n",
       "      <th>48</th>\n",
       "      <td>South Derbyshire CC</td>\n",
       "      <td>78.899083</td>\n",
       "    </tr>\n",
       "    <tr>\n",
       "      <th>49</th>\n",
       "      <td>North West Durham CC</td>\n",
       "      <td>78.285714</td>\n",
       "    </tr>\n",
       "    <tr>\n",
       "      <th>50</th>\n",
       "      <td>Newcastle upon Tyne East BC</td>\n",
       "      <td>78.195489</td>\n",
       "    </tr>\n",
       "  </tbody>\n",
       "</table>\n",
       "</div>"
      ],
      "text/plain": [
       "                        MP's Constituency     Travel\n",
       "1                            Tynemouth BC  99.065421\n",
       "2                 Louth and Horncastle CC  98.979592\n",
       "3                            Lichfield CC  98.360656\n",
       "4                           Sedgefield CC  98.220641\n",
       "5                     Warrington North BC  97.938144\n",
       "6                    Bolton North East BC  97.860963\n",
       "7                               Jarrow BC  97.849462\n",
       "8               Blackley and Broughton BC  96.887160\n",
       "9                            Gateshead BC  96.534653\n",
       "10                          Leeds East BC  95.864662\n",
       "11                            Knowsley BC  95.843521\n",
       "12                     West Lancashire CC  95.604396\n",
       "13                            Sherwood CC  95.135135\n",
       "14                    Nottingham North BC  94.055944\n",
       "15                            Aberavon CC  93.684211\n",
       "16                           Mansfield CC  93.015873\n",
       "17             Torridge and West Devon CC  92.307692\n",
       "18                   Ashton-under-Lyne BC  91.764706\n",
       "19                    Leeds North East BC  91.636364\n",
       "20                          Workington CC  91.612903\n",
       "21                        Blyth Valley BC  91.216216\n",
       "22                      Forest of Dean CC  90.476190\n",
       "23               Shrewsbury and Atcham CC  89.873418\n",
       "24                             Chorley CC  89.807163\n",
       "25                  Manchester, Gorton BC  89.473684\n",
       "26                Sheffield South East BC  89.235127\n",
       "27                             Blaydon BC  89.147287\n",
       "28  Kingston upon Hull West and Hessle BC  88.235294\n",
       "29                           Aberconwy CC  88.180113\n",
       "30           Ellesmere Port and Neston CC  87.762238\n",
       "31                            Bridgend CC  87.559809\n",
       "32                  Denton and Reddish BC  87.463557\n",
       "33                 Coventry North West BC  87.267081\n",
       "34                            Copeland CC  86.585366\n",
       "35                South Leicestershire CC  86.250000\n",
       "36                  Berwick-upon-Tweed CC  86.029412\n",
       "37              Wyre and Preston North CC  85.530547\n",
       "38                   Liverpool, Walton BC  84.942085\n",
       "39              Haltemprice and Howden CC  83.428571\n",
       "40                               Neath CC  83.030303\n",
       "41                          Clwyd West CC  82.587065\n",
       "42                           Stockport BC  82.153846\n",
       "43                        North Durham CC  82.068966\n",
       "44           Wythenshawe and Sale East BC  81.782946\n",
       "45               Dumfries and Galloway CC  80.666667\n",
       "46                          Caerphilly CC  79.921260\n",
       "47            Altrincham and Sale West BC  79.813665\n",
       "48                    South Derbyshire CC  78.899083\n",
       "49                   North West Durham CC  78.285714\n",
       "50            Newcastle upon Tyne East BC  78.195489"
      ]
     },
     "execution_count": 28,
     "metadata": {},
     "output_type": "execute_result"
    }
   ],
   "source": [
    "# Looking at average over all journeys made by MPs from all Constituencies\n",
    "TStd = Total[(Total['Travel'] == \"Standard\") & (Total['Status'] == \"Paid\")]\n",
    "TFirst = Total[(Total['Travel'] == \"First\") & (Total['Status'] == \"Paid\")]\n",
    "FirstSum = TFirst.groupby([\"MP's Constituency\"])['Travel'].count()\n",
    "StdSum = TStd.groupby([\"MP's Constituency\"])['Travel'].count()\n",
    "First_Percent_Ave = 100. * FirstSum / (FirstSum + StdSum)\n",
    "# Convert index to ranking number\n",
    "AveFirstPercent = First_Percent_Ave.fillna(0).sort_values(ascending=False)\n",
    "AveFirstPercent = AveFirstPercent.reset_index()\n",
    "AveFirstPercent.index += 1\n",
    "AveFirstPercent.head(50)"
   ]
  },
  {
   "cell_type": "markdown",
   "metadata": {},
   "source": [
    "So, after playing around with a panda dataframe for a while, practising filtering, plotting and grouping entries, I think I shall leave it there. As I said, there is a lot of ways to analyse the data available, but my main aim with this was simply to use the pandas module. I may add some extra stuff later on if I find anything of interest. \n",
    "\n",
    "So, using pandas, I was able to filter down the expenses claims made by UK MPs to look at claims made by individual MPs, and compare them with other MPs within a geographic area. I was also able to filter out claims made for specific reasons, such as accommodation and travel expenses. I also discovered that my MP seems to like travelling first class, which I have asked him about and will update this post once I have received a reply. "
   ]
  }
 ],
 "metadata": {
  "kernelspec": {
   "display_name": "Python 2",
   "language": "python",
   "name": "python2"
  },
  "language_info": {
   "codemirror_mode": {
    "name": "ipython",
    "version": 2
   },
   "file_extension": ".py",
   "mimetype": "text/x-python",
   "name": "python",
   "nbconvert_exporter": "python",
   "pygments_lexer": "ipython2",
   "version": "2.7.11"
  }
 },
 "nbformat": 4,
 "nbformat_minor": 0
}
